{
 "cells": [
  {
   "cell_type": "code",
   "execution_count": 3,
   "id": "8b217a16-2650-4444-8620-672163883dd5",
   "metadata": {},
   "outputs": [],
   "source": [
    "import os\n",
    "import shutil\n",
    "import yaml\n",
    "import copy\n",
    "import json"
   ]
  },
  {
   "cell_type": "code",
   "execution_count": 45,
   "id": "f5314b73-304d-4648-9487-1a347d2e69e5",
   "metadata": {},
   "outputs": [
    {
     "name": "stdout",
     "output_type": "stream",
     "text": [
      "Looking in indexes: https://pypi.org/simple, https://pypi.ngc.nvidia.com\n",
      "Requirement already satisfied: roboflow in /usr/local/lib/python3.10/dist-packages (1.1.51)\n",
      "Requirement already satisfied: certifi in /usr/local/lib/python3.10/dist-packages (from roboflow) (2024.12.14)\n",
      "Requirement already satisfied: idna==3.7 in /usr/local/lib/python3.10/dist-packages (from roboflow) (3.7)\n",
      "Requirement already satisfied: cycler in /usr/local/lib/python3.10/dist-packages (from roboflow) (0.12.1)\n",
      "Requirement already satisfied: kiwisolver>=1.3.1 in /usr/local/lib/python3.10/dist-packages (from roboflow) (1.4.5)\n",
      "Requirement already satisfied: matplotlib in /usr/local/lib/python3.10/dist-packages (from roboflow) (3.10.0)\n",
      "Requirement already satisfied: numpy>=1.18.5 in /usr/local/lib/python3.10/dist-packages (from roboflow) (1.26.4)\n",
      "Requirement already satisfied: opencv-python-headless==4.10.0.84 in /usr/local/lib/python3.10/dist-packages (from roboflow) (4.10.0.84)\n",
      "Requirement already satisfied: Pillow>=7.1.2 in /usr/local/lib/python3.10/dist-packages (from roboflow) (10.3.0)\n",
      "Requirement already satisfied: python-dateutil in /usr/local/lib/python3.10/dist-packages (from roboflow) (2.9.0.post0)\n",
      "Requirement already satisfied: python-dotenv in /usr/local/lib/python3.10/dist-packages (from roboflow) (1.0.1)\n",
      "Requirement already satisfied: requests in /usr/local/lib/python3.10/dist-packages (from roboflow) (2.32.3)\n",
      "Requirement already satisfied: six in /usr/local/lib/python3.10/dist-packages (from roboflow) (1.16.0)\n",
      "Requirement already satisfied: urllib3>=1.26.6 in /usr/local/lib/python3.10/dist-packages (from roboflow) (2.0.7)\n",
      "Requirement already satisfied: tqdm>=4.41.0 in /usr/local/lib/python3.10/dist-packages (from roboflow) (4.66.4)\n",
      "Requirement already satisfied: PyYAML>=5.3.1 in /usr/local/lib/python3.10/dist-packages (from roboflow) (6.0.1)\n",
      "Requirement already satisfied: requests-toolbelt in /usr/local/lib/python3.10/dist-packages (from roboflow) (1.0.0)\n",
      "Requirement already satisfied: filetype in /usr/local/lib/python3.10/dist-packages (from roboflow) (1.2.0)\n",
      "Requirement already satisfied: contourpy>=1.0.1 in /usr/local/lib/python3.10/dist-packages (from matplotlib->roboflow) (1.2.1)\n",
      "Requirement already satisfied: fonttools>=4.22.0 in /usr/local/lib/python3.10/dist-packages (from matplotlib->roboflow) (4.53.0)\n",
      "Requirement already satisfied: packaging>=20.0 in /usr/local/lib/python3.10/dist-packages (from matplotlib->roboflow) (24.0)\n",
      "Requirement already satisfied: pyparsing>=2.3.1 in /usr/local/lib/python3.10/dist-packages (from matplotlib->roboflow) (3.1.2)\n",
      "Requirement already satisfied: charset-normalizer<4,>=2 in /usr/local/lib/python3.10/dist-packages (from requests->roboflow) (3.3.2)\n",
      "\u001b[33mWARNING: Running pip as the 'root' user can result in broken permissions and conflicting behaviour with the system package manager, possibly rendering your system unusable.It is recommended to use a virtual environment instead: https://pip.pypa.io/warnings/venv. Use the --root-user-action option if you know what you are doing and want to suppress this warning.\u001b[0m\u001b[33m\n",
      "\u001b[0m\n",
      "\u001b[1m[\u001b[0m\u001b[34;49mnotice\u001b[0m\u001b[1;39;49m]\u001b[0m\u001b[39;49m A new release of pip is available: \u001b[0m\u001b[31;49m24.2\u001b[0m\u001b[39;49m -> \u001b[0m\u001b[32;49m25.0\u001b[0m\n",
      "\u001b[1m[\u001b[0m\u001b[34;49mnotice\u001b[0m\u001b[1;39;49m]\u001b[0m\u001b[39;49m To update, run: \u001b[0m\u001b[32;49mpython -m pip install --upgrade pip\u001b[0m\n",
      "loading Roboflow workspace...\n",
      "loading Roboflow project...\n"
     ]
    },
    {
     "name": "stderr",
     "output_type": "stream",
     "text": [
      "Downloading Dataset Version Zip in tronc-p3-7 to yolov8:: 100%|██████████| 61117/61117 [00:02<00:00, 23197.50it/s]"
     ]
    },
    {
     "name": "stdout",
     "output_type": "stream",
     "text": [
      "\n"
     ]
    },
    {
     "name": "stderr",
     "output_type": "stream",
     "text": [
      "\n",
      "Extracting Dataset Version Zip to tronc-p3-7 in yolov8:: 100%|██████████| 1129/1129 [00:00<00:00, 6484.19it/s]\n"
     ]
    }
   ],
   "source": [
    "!pip install roboflow\n",
    "\n",
    "from roboflow import Roboflow\n",
    "rf = Roboflow(api_key=\"5jXjahU4HOjPFMAIbync\")\n",
    "project = rf.workspace(\"stage-ykecb\").project(\"tronc-p3\")\n",
    "version = project.version(7)\n",
    "dataset = version.download(\"yolov8\")"
   ]
  },
  {
   "cell_type": "code",
   "execution_count": 82,
   "id": "cfa9709e-451d-41b8-8647-a906232cc483",
   "metadata": {},
   "outputs": [],
   "source": [
    "def filtre(cc: list,bg: list,  pm: list, source:str, destination: str, isTest=False):\n",
    "    #cc est une liste de liste indiquant les classes que l'on veut remplacer ainsi que leur remplaçant\n",
    "    #bg est la liste des classes qui deviennent nulles, 'background'\n",
    "    #pm est la liste des classes dont on veut voir l'effet sur l'entrainement\n",
    "    #source est le repertoire source\n",
    "    #destination est le répertoire de destination\n",
    "    #isTest est un booléen egal à True uniquement si on le précise, utile pour ne pas supprimer d'images de test contenant les classes incluses dans pm\n",
    "    \n",
    "    print(\"source name = \", source)\n",
    "    label_dir = source + \"/labels\"\n",
    "    image_dir = source + \"/images\"\n",
    "    \n",
    "    #shutil.rmtree(destination)   # creation des repertoires images et labels\n",
    "    os.makedirs(destination+\"/labels\")\n",
    "    os.makedirs(destination+\"/images\")\n",
    "   \n",
    "\n",
    "    for filename in os.listdir(label_dir): # boucle sur les fichiers de source/labels\n",
    "        rm_file_flag = False  # booléen indiquant si on va supprimer le fichier\n",
    "        f = os.path.join(label_dir, filename)\n",
    "        nom_fich = filename.split('/')[-1] \n",
    "        file_root_list = nom_fich.split('.')\n",
    "        file_root = \"\"\n",
    "        for i in range(len(file_root_list)-1):\n",
    "            if i == 0:\n",
    "                file_root = file_root + file_root_list[i]\n",
    "            else :\n",
    "                file_root =  file_root + '.' + file_root_list[i] #pour avoir le nom du fichier sans \".txt\", utile pour la copie de l'image\n",
    "                \n",
    "        if os.path.isfile(f) and nom_fich.endswith('.txt'):\n",
    "            \n",
    "            nouv_fichier = destination + '/labels/' + nom_fich\n",
    "            \n",
    "            file = open(f,'r')\n",
    "            contenu = file.readlines() #liste des lignes du fichier d'origine\n",
    "            file.close()\n",
    "            new_file = open(nouv_fichier, 'w') #création et ouverture en écriture du nouveau fichier\n",
    "            for ligne in contenu: # boucle sur les lignes du fichier d'origine\n",
    "                ind = int(ligne[0]) # classe de la ligne\n",
    "                new_ligne=''\n",
    "                if ind not in bg:\n",
    "                    for c in cc:\n",
    "                        if ind == c[0]:\n",
    "                            new_ligne = str(c[1]) + ligne[1:] # nouvelle ligne avec le changement de classe\n",
    "                            new_file.write(new_ligne)         # ecriture de la ligne dans le nouveau fichier\n",
    "                            new_file.flush()\n",
    "                            break\n",
    "                            #print(new_ligne)\n",
    "                            #ligne = new_ligne # remplacement de l'ancienne ligne par la nouvelle\n",
    "        \n",
    "\n",
    "                if ind in pm and not isTest:\n",
    "                    new_file.close()\n",
    "                    os.remove(nouv_fichier) # suppression du fichier car il y a le parametre que l'on veut enlever et ce n'est pas le set de test\n",
    "                    rm_file_flag = True\n",
    "                    break\n",
    "                \n",
    "            if not rm_file_flag: # si on n'a pas supprimer le fichier\n",
    "                image_file = file_root + \".jpg\"\n",
    "                new_image_path = os.path.join(destination, 'images', image_file)\n",
    "                image_path = os.path.join(image_dir, image_file)\n",
    "                shutil.copyfile(image_path, new_image_path) #copie de l'image dans destination/images\n",
    "        new_file.close()\n",
    "\n",
    "\n",
    "\n",
    "\n",
    "def filter_all(cc: list, bg: list, pm: list, source:str, destination: str):\n",
    "    test_source = os.path.join(source,'test')\n",
    "    valid_source = os.path.join(source,'valid')\n",
    "    train_source = os.path.join(source,'train')\n",
    "    test_destination = os.path.join(destination,'test')\n",
    "    valid_destination = os.path.join(destination,'valid')\n",
    "    train_destination = os.path.join(destination,'train') #creation des repertoires de test,valid, et train\n",
    "    filtre2(cc,bg, pm , valid_source, valid_destination) # applications de la fonction précédente\n",
    "    filtre2(cc,bg, pm , train_source, train_destination)\n",
    "    filtre2(cc,bg, pm , test_source, test_destination, isTest=True) \n",
    "    source_yaml = source + \"/data.yaml\"\n",
    "    destination_yaml = destination + \"/data.yaml\"\n",
    "    with open(source_yaml, 'r') as file: #ouverture du fichier yaml et fermeture 1 ligne apres\n",
    "        file = yaml.safe_load(file)\n",
    "    \n",
    "    file_copy = copy.copy(file)  #copie en valeurs sinon modification du fichier d'origine \n",
    "    noms = copy.copy(file[\"names\"]) # copie de la liste des classes\n",
    "    print(noms)\n",
    "    for c in cc:\n",
    "        noms[c[0]] = noms[c[1]] #changement de la copie de la liste des classes\n",
    "    \n",
    "    noms = list(set(noms)) #enleve les redondances dans la list noms\n",
    "    new_nc = len(noms) \n",
    "    file_copy[\"names\"] = noms\n",
    "    file_copy[\"nc\"] = new_nc\n",
    "    if \"roboflow\" in file_copy:\n",
    "        del file_copy[\"roboflow\"]\n",
    "    with open(destination_yaml, 'w') as outfile:\n",
    "        yaml.dump(file_copy, outfile)\n",
    "    "
   ]
  },
  {
   "cell_type": "code",
   "execution_count": 83,
   "id": "8a4f40dd-0a26-44c7-a07c-851a440f33ba",
   "metadata": {},
   "outputs": [
    {
     "name": "stdout",
     "output_type": "stream",
     "text": [
      "source name =  /workspace/stage1A/datasets/dataset_base/train\n"
     ]
    }
   ],
   "source": [
    "def filtre2(cc: list, bg: list, pm: list, source: str, destination: str, isTest=False):\n",
    "    # cc est une liste de liste indiquant les classes que l'on veut remplacer ainsi que leur remplaçant\n",
    "    # bg est la liste des classes qui deviennent nulles, 'background'\n",
    "    # pm est la liste des classes dont on veut voir l'effet sur l'entraînement\n",
    "    # source est le répertoire source\n",
    "    # destination est le répertoire de destination\n",
    "    # isTest est un booléen égal à True uniquement si on le précise, utile pour ne pas supprimer d'images de test contenant les classes incluses dans pm\n",
    "\n",
    "    print(\"source name = \", source)\n",
    "    label_dir = source + \"/labels\"\n",
    "    image_dir = source + \"/images\"\n",
    "\n",
    "    os.makedirs(destination + \"/labels\")\n",
    "    os.makedirs(destination + \"/images\")\n",
    "\n",
    "    for filename in os.listdir(label_dir):  # boucle sur les fichiers de source/labels\n",
    "        rm_file_flag = False  # booléen indiquant si on va supprimer le fichier\n",
    "        f = os.path.join(label_dir, filename)\n",
    "        nom_fich = filename.split('/')[-1]\n",
    "        file_root_list = nom_fich.split('.')\n",
    "        file_root = \".\".join(file_root_list[:-1])  # pour avoir le nom du fichier sans \".txt\", utile pour la copie de l'image\n",
    "\n",
    "        if os.path.isfile(f) and nom_fich.endswith('.txt'):\n",
    "            nouv_fichier = destination + '/labels/' + nom_fich\n",
    "          \n",
    "\n",
    "            with open(f, 'r') as file:\n",
    "                contenu = file.readlines()  # liste des lignes du fichier d'origine\n",
    "\n",
    "            with open(nouv_fichier, 'w') as new_file:\n",
    "                lines_to_write = []  # Liste pour stocker les lignes modifiées\n",
    "                for ligne in contenu:  # boucle sur les lignes du fichier d'origine\n",
    "                    ind = int(ligne.strip().split()[0])  # classe de la ligne\n",
    "                    new_line = ''\n",
    "                    if ind not in bg:\n",
    "                        for c in cc:\n",
    "                            if ind == c[0]:\n",
    "                                new_line = str(c[1]) + ' ' + ligne[1:]  # nouvelle ligne avec le changement de classe\n",
    "                                lines_to_write.append(new_line)\n",
    "                                break\n",
    "\n",
    "                    if ind in pm and not isTest:\n",
    "                        os.remove(nouv_fichier)  # suppression du fichier si nécessaire\n",
    "                        rm_file_flag = True\n",
    "                        break\n",
    "\n",
    "                # Une fois toutes les lignes modifiées, on les écrit dans le fichier\n",
    "                if not rm_file_flag:\n",
    "                    new_file.writelines(lines_to_write)  # Écriture de toutes les lignes modifiées dans le fichier\n",
    "                    image_file = file_root + \".jpg\"\n",
    "                    new_image_path = os.path.join(destination, 'images', image_file)\n",
    "                    image_path = os.path.join(image_dir, image_file)\n",
    "                    shutil.copyfile(image_path, new_image_path)  # copie de l'image dans destination/images\n",
    "\n",
    "\n",
    "\n",
    "filtre2(class_change_ind,background_ind,dico_parametre['troncs_loins'],'/workspace/stage1A/datasets/dataset_base/train','/workspace/stage1A/datasets')"
   ]
  },
  {
   "cell_type": "code",
   "execution_count": 74,
   "id": "2baf74f3-fd7e-43ca-8693-b899e5b32599",
   "metadata": {},
   "outputs": [
    {
     "name": "stdout",
     "output_type": "stream",
     "text": [
      "{'feuillage': 0, 'humain': 1, 'loin_Nche_Nobst_Nombr': 2, 'loin_Nche_obst_Nombr': 3, 'loin_che_Nobst_Nombr': 4, 'loin_che_Nobst_ombr': 5, 'loin_che_obst_Nombr': 6, 'loin_che_obst_ombr': 7, 'poteau': 8, 'proche_Nche_Nobst_Nombr': 9, 'proche_Nche_obst_Nombr': 10, 'proche_che_Nobst_Nombr': 11, 'proche_che_Nobst_ombr': 12, 'proche_che_obst_Nombr': 13, 'proche_che_obst_ombr': 14, 'voiture': 15, 'tronc': 16}\n"
     ]
    }
   ],
   "source": [
    "with open(\"datasets/dataset_base/data.yaml\", 'r') as file: #ouverture du fichier yaml et fermeture 1 ligne apres\n",
    "        base_yaml_file = yaml.safe_load(file)\n",
    "    \n",
    "list_class = base_yaml_file[\"names\"]\n",
    "names_dict = {}\n",
    "for i in range(len(list_class)):\n",
    "    names_dict.update({list_class[i]:i})\n",
    "\n",
    "\n",
    "print(names_dict)"
   ]
  },
  {
   "cell_type": "code",
   "execution_count": 84,
   "id": "6b1093c3-d816-479d-acfb-110047ab960c",
   "metadata": {},
   "outputs": [
    {
     "name": "stdout",
     "output_type": "stream",
     "text": [
      "{'troncs_ombres': [5, 7, 12, 14], 'troncs_obstrues': [3, 6, 7, 10, 13, 14], 'troncs_sans_chaussette': [2, 3, 9, 10], 'troncs_loins': [2, 3, 4, 5, 6, 7]}\n",
      "[0, 1, 8, 15]\n",
      "[[2, 16], [3, 16], [4, 16], [5, 16], [6, 16], [9, 16], [10, 16], [11, 16], [12, 16], [13, 16], [14, 16], [7, 16]]\n",
      "[2, 3, 4, 5, 6, 7]\n"
     ]
    }
   ],
   "source": [
    "background_names=[\"feuillage\", \"humain\", \"poteau\", \"voiture\"] \n",
    "class_change_name=[\n",
    "    [\"loin_Nche_Nobst_Nombr\",\"tronc\"],\n",
    "    [\"loin_Nche_obst_Nombr\",\"tronc\"],\n",
    "    [\"loin_che_Nobst_Nombr\",\"tronc\"],\n",
    "    [\"loin_che_Nobst_ombr\",\"tronc\"],\n",
    "    [\"loin_che_obst_Nombr\",\"tronc\"],\n",
    "    [\"proche_Nche_Nobst_Nombr\",\"tronc\"],\n",
    "    [\"proche_Nche_obst_Nombr\",\"tronc\"],\n",
    "    [\"proche_che_Nobst_Nombr\",\"tronc\"],\n",
    "    [\"proche_che_Nobst_ombr\",\"tronc\"],\n",
    "    [\"proche_che_obst_Nombr\",\"tronc\"],\n",
    "    [\"proche_che_obst_ombr\",\"tronc\"],\n",
    "    ['loin_che_obst_ombr', 'tronc']\n",
    "    ]\n",
    "class_change_ind = [ [names_dict[elem[0]], names_dict[elem[1]]] for elem in class_change_name]\n",
    "background_ind =[names_dict[elem] for elem in background_names]\n",
    "\n",
    "troncs_ombres = ['loin_che_Nobst_ombr','loin_che_obst_ombr','proche_che_Nobst_ombr','proche_che_obst_ombr']\n",
    "troncs_obstrues = ['loin_Nche_obst_Nombr','loin_che_obst_Nombr', 'loin_che_obst_ombr', 'proche_Nche_obst_Nombr', 'proche_che_obst_Nombr', 'proche_che_obst_ombr' ]\n",
    "troncs_sans_chaussette = ['loin_Nche_Nobst_Nombr', 'loin_Nche_obst_Nombr', 'proche_Nche_Nobst_Nombr', 'proche_Nche_obst_Nombr']\n",
    "troncs_loins = ['loin_Nche_Nobst_Nombr', 'loin_Nche_obst_Nombr', 'loin_che_Nobst_Nombr', 'loin_che_Nobst_ombr', 'loin_che_obst_Nombr','loin_che_obst_ombr',]\n",
    "\n",
    "dico_parametre = {}\n",
    "dico_parametre['troncs_ombres'] = [names_dict[elem] for elem in troncs_ombres]\n",
    "dico_parametre['troncs_obstrues'] = [names_dict[elem] for elem in troncs_obstrues]\n",
    "dico_parametre['troncs_sans_chaussette'] = [names_dict[elem] for elem in troncs_sans_chaussette]\n",
    "dico_parametre['troncs_loins'] = [names_dict[elem] for elem in troncs_loins]\n",
    "\n",
    "print(dico_parametre)\n",
    "print(background_ind)\n",
    "print(class_change_ind)\n",
    "print(dico_parametre['troncs_loins'])"
   ]
  },
  {
   "cell_type": "code",
   "execution_count": 88,
   "id": "36c41e47-da56-4609-b65d-189bada16def",
   "metadata": {},
   "outputs": [
    {
     "name": "stdout",
     "output_type": "stream",
     "text": [
      "source name =  datasets/dataset_base/valid\n",
      "source name =  datasets/dataset_base/train\n",
      "source name =  datasets/dataset_base/test\n",
      "['feuillage', 'humain', 'loin_Nche_Nobst_Nombr', 'loin_Nche_obst_Nombr', 'loin_che_Nobst_Nombr', 'loin_che_Nobst_ombr', 'loin_che_obst_Nombr', 'loin_che_obst_ombr', 'poteau', 'proche_Nche_Nobst_Nombr', 'proche_Nche_obst_Nombr', 'proche_che_Nobst_Nombr', 'proche_che_Nobst_ombr', 'proche_che_obst_Nombr', 'proche_che_obst_ombr', 'voiture', 'tronc']\n",
      "source name =  datasets/dataset_base/valid\n",
      "source name =  datasets/dataset_base/train\n",
      "source name =  datasets/dataset_base/test\n",
      "['feuillage', 'humain', 'loin_Nche_Nobst_Nombr', 'loin_Nche_obst_Nombr', 'loin_che_Nobst_Nombr', 'loin_che_Nobst_ombr', 'loin_che_obst_Nombr', 'loin_che_obst_ombr', 'poteau', 'proche_Nche_Nobst_Nombr', 'proche_Nche_obst_Nombr', 'proche_che_Nobst_Nombr', 'proche_che_Nobst_ombr', 'proche_che_obst_Nombr', 'proche_che_obst_ombr', 'voiture', 'tronc']\n",
      "source name =  datasets/dataset_base/valid\n",
      "source name =  datasets/dataset_base/train\n",
      "source name =  datasets/dataset_base/test\n",
      "['feuillage', 'humain', 'loin_Nche_Nobst_Nombr', 'loin_Nche_obst_Nombr', 'loin_che_Nobst_Nombr', 'loin_che_Nobst_ombr', 'loin_che_obst_Nombr', 'loin_che_obst_ombr', 'poteau', 'proche_Nche_Nobst_Nombr', 'proche_Nche_obst_Nombr', 'proche_che_Nobst_Nombr', 'proche_che_Nobst_ombr', 'proche_che_obst_Nombr', 'proche_che_obst_ombr', 'voiture', 'tronc']\n",
      "source name =  datasets/dataset_base/valid\n",
      "source name =  datasets/dataset_base/train\n",
      "source name =  datasets/dataset_base/test\n",
      "['feuillage', 'humain', 'loin_Nche_Nobst_Nombr', 'loin_Nche_obst_Nombr', 'loin_che_Nobst_Nombr', 'loin_che_Nobst_ombr', 'loin_che_obst_Nombr', 'loin_che_obst_ombr', 'poteau', 'proche_Nche_Nobst_Nombr', 'proche_Nche_obst_Nombr', 'proche_che_Nobst_Nombr', 'proche_che_Nobst_ombr', 'proche_che_obst_Nombr', 'proche_che_obst_ombr', 'voiture', 'tronc']\n"
     ]
    }
   ],
   "source": [
    "source = 'datasets/dataset_base'\n",
    "\n",
    "def new_dataset(class_change, bg, source: str, parametre: str ): #liste des parametres possibles : 'sans troncs ombres', 'sans tronc obstrues', 'sans tronc sans chaussettes', 'sans tronc loin']\n",
    "    destination = 'datasets/' + parametre\n",
    "    #shutil.rmtree(destination)\n",
    "    os.makedirs(destination)\n",
    "    filter_all(class_change, bg, dico_parametre[parametre], source, destination)\n",
    "    add_listedico(parametre, '', destination, '', '')\n",
    "    fichierjson(listedico)\n",
    "\n",
    "new_dataset(class_change_ind, background_ind, source, 'troncs_loins')\n",
    "new_dataset(class_change_ind, background_ind, source, 'troncs_ombres')\n",
    "new_dataset(class_change_ind, background_ind, source, 'troncs_obstrues')\n",
    "new_dataset(class_change_ind, background_ind, source, 'troncs_sans_chaussette')\n"
   ]
  },
  {
   "cell_type": "code",
   "execution_count": 86,
   "id": "090619e1-26ce-40e0-b761-641de868f41e",
   "metadata": {},
   "outputs": [
    {
     "name": "stdout",
     "output_type": "stream",
     "text": [
      "[{'name': 'dataset_base', 'description': 'toutes les images sont présentes', 'chemin_acces': 'stage1A/datasets/dataset_base/tronc-p3-7', 'chemin_poids': 'r', 'chemin_metrics': 'r'}]\n",
      "[{'name': 'dataset_base', 'description': 'toutes les images sont présentes', 'chemin_acces': 'stage1A/datasets/dataset_base/tronc-p3-7', 'chemin_poids': 'r', 'chemin_metrics': 'r'}]\n"
     ]
    }
   ],
   "source": [
    "listedico = []\n",
    "\n",
    "def add_listedico(nom: str, description: str, chemin_acces: str, chemin_poids: str, chemin_metrics: str): # permet d'ajouter à la liste un nouveau dictionaire \n",
    "    dico = {'name': nom, 'description': description,'chemin_acces':chemin_acces ,'chemin_poids':chemin_poids, 'chemin_metrics':chemin_metrics}\n",
    "    listedico.append(dico)\n",
    "    \n",
    "def fichierjson(liste_dico): # créer un fichier json à partir de la liste de dictionnaire \n",
    "    name = 'datasets/data.json'\n",
    "    with open(name, 'w') as file:\n",
    "        json.dump(liste_dico, file, indent=4)\n",
    "\n",
    "def modif_dico(ind: int, keys: list, modif: list): #pour modifier les caracteristiques d'un dictionnaires dans le json, ind = indice du dico, keys est la liste des clés à modifier\n",
    "    for i in range(len(keys)):\n",
    "        k=keys[i]\n",
    "        listedico[i][k]=modif[i]\n",
    "    fichierjson(listedico)\n",
    "\n",
    "add_listedico('dataset_base','toutes les images sont présentes','stage1A/datasets/dataset_base/tronc-p3-7','r','r')\n",
    "#add_listedico('dataset_chaussette','toutes les images sont présentes','stage1A/datasets/dataset_base/tronc-p3-7','r','r')\n",
    "print(listedico)\n",
    "\n",
    "fichierjson(listedico)\n",
    "\n",
    "#modif_dico(0, ['name'], ['ca marche'])\n",
    "print(listedico)"
   ]
  },
  {
   "cell_type": "code",
   "execution_count": null,
   "id": "fcf9a045-2563-47cf-b0da-a3067565fb8b",
   "metadata": {},
   "outputs": [],
   "source": [
    "modif_dico(1,['description'],['images sans des troncs loins'])\n",
    "modif_dico(2,['description'],['images sans des troncs loins'])"
   ]
  },
  {
   "cell_type": "code",
   "execution_count": null,
   "id": "d21abf8b-748c-4972-b274-80a183a2cf2b",
   "metadata": {},
   "outputs": [],
   "source": []
  }
 ],
 "metadata": {
  "kernelspec": {
   "display_name": "Python 3 (ipykernel)",
   "language": "python",
   "name": "python3"
  },
  "language_info": {
   "codemirror_mode": {
    "name": "ipython",
    "version": 3
   },
   "file_extension": ".py",
   "mimetype": "text/x-python",
   "name": "python",
   "nbconvert_exporter": "python",
   "pygments_lexer": "ipython3",
   "version": "3.10.12"
  },
  "widgets": {
   "application/vnd.jupyter.widget-state+json": {
    "state": {},
    "version_major": 2,
    "version_minor": 0
   }
  }
 },
 "nbformat": 4,
 "nbformat_minor": 5
}
